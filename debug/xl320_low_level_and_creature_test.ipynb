{
 "cells": [
  {
   "cell_type": "markdown",
   "metadata": {},
   "source": [
    "##Some tests to check if your setup is running correctly - Using dynamixel XL320 motor"
   ]
  },
  {
   "cell_type": "raw",
   "metadata": {},
   "source": [
    "Import the module to test the motors :"
   ]
  },
  {
   "cell_type": "code",
   "execution_count": 1,
   "metadata": {
    "collapsed": true
   },
   "outputs": [],
   "source": [
    "import pypot.dynamixel\n",
    "import time"
   ]
  },
  {
   "cell_type": "markdown",
   "metadata": {},
   "source": [
    "Find the available usb port. The port where USB2AX or USBDynamixel is plug."
   ]
  },
  {
   "cell_type": "code",
   "execution_count": 2,
   "metadata": {
    "collapsed": false
   },
   "outputs": [
    {
     "name": "stdout",
     "output_type": "stream",
     "text": [
      "['COM3']\n"
     ]
    }
   ],
   "source": [
    "print(pypot.dynamixel.get_available_ports())"
   ]
  },
  {
   "cell_type": "markdown",
   "metadata": {},
   "source": [
    "Open a low level connexion to the motors, don't forget to replace 'COM3' if your port is different."
   ]
  },
  {
   "cell_type": "code",
   "execution_count": 3,
   "metadata": {
    "collapsed": false
   },
   "outputs": [],
   "source": [
    "dxl_io = pypot.dynamixel.Dxl320IO('COM3', use_sync_read=True)"
   ]
  },
  {
   "cell_type": "markdown",
   "metadata": {},
   "source": [
    "Find the different motors which must have differents id. Id have been set up before with the herborist tool."
   ]
  },
  {
   "cell_type": "code",
   "execution_count": 5,
   "metadata": {
    "collapsed": false
   },
   "outputs": [
    {
     "name": "stdout",
     "output_type": "stream",
     "text": [
      "[1, 2, 3, 4]\n"
     ]
    }
   ],
   "source": [
    "print(dxl_io.scan(range(30)))"
   ]
  },
  {
   "cell_type": "markdown",
   "metadata": {},
   "source": [
    "A test to check the speed of the communication with your motor. On windows it is possible that you have to change the latency time of the driver of the usbdynamixel (see forum : https://forum.poppy-project.org/t/birth-of-poppy-ergo-jr-and-support-for-low-cost-xl-320-motors/1052/22)"
   ]
  },
  {
   "cell_type": "code",
   "execution_count": 4,
   "metadata": {
    "collapsed": false
   },
   "outputs": [
    {
     "name": "stdout",
     "output_type": "stream",
     "text": [
      "100 loops, best of 3: 5.9 ms per loop\n"
     ]
    }
   ],
   "source": [
    "%timeit dxl_io.get_present_position((1, 2, 3, 4))"
   ]
  },
  {
   "cell_type": "markdown",
   "metadata": {},
   "source": [
    "Setting the robot to 0 position : "
   ]
  },
  {
   "cell_type": "code",
   "execution_count": 5,
   "metadata": {
    "collapsed": true
   },
   "outputs": [],
   "source": [
    "dxl_io.set_goal_position({1: 0})\n",
    "dxl_io.set_goal_position({2: 0})\n",
    "dxl_io.set_goal_position({3: 0})\n",
    "dxl_io.set_goal_position({4: 0})"
   ]
  },
  {
   "cell_type": "markdown",
   "metadata": {},
   "source": [
    "If you want to close the connexion :"
   ]
  },
  {
   "cell_type": "code",
   "execution_count": 27,
   "metadata": {
    "collapsed": false
   },
   "outputs": [],
   "source": [
    "dxl_io.close()"
   ]
  },
  {
   "cell_type": "markdown",
   "metadata": {},
   "source": [
    "Now, if you want to have a robot acces and not only motors access, you have to configure your robot."
   ]
  },
  {
   "cell_type": "code",
   "execution_count": 1,
   "metadata": {
    "collapsed": true
   },
   "outputs": [],
   "source": [
    "from pypot.dynamixel import autodetect_robot\n",
    "\n",
    "my_robot = autodetect_robot()\n",
    "\n",
    "for m in my_robot.motors:\n",
    "    m.goal_position = 0.0"
   ]
  },
  {
   "cell_type": "code",
   "execution_count": 20,
   "metadata": {
    "collapsed": false
   },
   "outputs": [
    {
     "data": {
      "text/plain": [
       "[<DxlMotor name=motor_1 id=1 pos=0.15>,\n",
       " <DxlMotor name=motor_2 id=2 pos=-1.03>,\n",
       " <DxlMotor name=motor_3 id=3 pos=-5.13>,\n",
       " <DxlMotor name=motor_4 id=4 pos=7.77>]"
      ]
     },
     "execution_count": 20,
     "metadata": {},
     "output_type": "execute_result"
    }
   ],
   "source": [
    "my_robot.motors"
   ]
  },
  {
   "cell_type": "code",
   "execution_count": 5,
   "metadata": {
    "collapsed": true
   },
   "outputs": [],
   "source": [
    "my_robot.motor_1.goal_position = 0"
   ]
  },
  {
   "cell_type": "markdown",
   "metadata": {},
   "source": [
    "You can save the configuration in a file :"
   ]
  },
  {
   "cell_type": "code",
   "execution_count": 9,
   "metadata": {
    "collapsed": true
   },
   "outputs": [],
   "source": [
    "import json\n",
    "\n",
    "config = my_robot.to_config()\n",
    "\n",
    "with open('mini_dof.json', 'wb') as f:\n",
    "    json.dump(config, f)"
   ]
  },
  {
   "cell_type": "markdown",
   "metadata": {},
   "source": [
    "And close the robot :"
   ]
  },
  {
   "cell_type": "code",
   "execution_count": 14,
   "metadata": {
    "collapsed": true
   },
   "outputs": [],
   "source": [
    "my_robot.close()"
   ]
  },
  {
   "cell_type": "markdown",
   "metadata": {},
   "source": [
    "You can use your previous json file to instanciate your robot :"
   ]
  },
  {
   "cell_type": "code",
   "execution_count": 9,
   "metadata": {
    "collapsed": false
   },
   "outputs": [],
   "source": [
    "from pypot.robot import from_json\n",
    "\n",
    "mini_4dof = from_json('test.json')"
   ]
  },
  {
   "cell_type": "code",
   "execution_count": 10,
   "metadata": {
    "collapsed": false
   },
   "outputs": [
    {
     "data": {
      "text/plain": [
       "[<DxlMotor name=m1 id=1 pos=-20.67>,\n",
       " <DxlMotor name=m2 id=2 pos=-40.91>,\n",
       " <DxlMotor name=m3 id=3 pos=-30.35>,\n",
       " <DxlMotor name=m4 id=4 pos=89.88>]"
      ]
     },
     "execution_count": 10,
     "metadata": {},
     "output_type": "execute_result"
    }
   ],
   "source": [
    "mini_4dof.motors"
   ]
  },
  {
   "cell_type": "markdown",
   "metadata": {},
   "source": [
    "And make move your robot :"
   ]
  },
  {
   "cell_type": "code",
   "execution_count": 12,
   "metadata": {
    "collapsed": false
   },
   "outputs": [],
   "source": [
    "mini_4dof.m4.goto_position(90,0.5)"
   ]
  },
  {
   "cell_type": "code",
   "execution_count": 13,
   "metadata": {
    "collapsed": false
   },
   "outputs": [],
   "source": [
    "mini_4dof.m4.goto_position(-90,0.5)"
   ]
  },
  {
   "cell_type": "code",
   "execution_count": 228,
   "metadata": {
    "collapsed": false
   },
   "outputs": [],
   "source": [
    "mini_4dof.m3.goto_position(-10,0.5)"
   ]
  },
  {
   "cell_type": "code",
   "execution_count": 229,
   "metadata": {
    "collapsed": true
   },
   "outputs": [],
   "source": [
    "mini_4dof.m3.goto_position(90,0.5)"
   ]
  },
  {
   "cell_type": "code",
   "execution_count": 211,
   "metadata": {
    "collapsed": true
   },
   "outputs": [],
   "source": [
    "mini_4dof.m4.goto_position(90,0.5)\n",
    "mini_4dof.m4.goto_position(-90,0.5)"
   ]
  },
  {
   "cell_type": "code",
   "execution_count": 216,
   "metadata": {
    "collapsed": false
   },
   "outputs": [],
   "source": [
    "mini_4dof.m3.goal_position = 20"
   ]
  },
  {
   "cell_type": "code",
   "execution_count": 8,
   "metadata": {
    "collapsed": false
   },
   "outputs": [],
   "source": [
    "mini_4dof.close()"
   ]
  },
  {
   "cell_type": "markdown",
   "metadata": {},
   "source": [
    "If you have correctly set your robot as a poppy creature you just have to import the class and instanciate your robot :"
   ]
  },
  {
   "cell_type": "code",
   "execution_count": 2,
   "metadata": {
    "collapsed": false
   },
   "outputs": [],
   "source": [
    "from poppy.creatures import Poppy4dofArmMini"
   ]
  },
  {
   "cell_type": "markdown",
   "metadata": {},
   "source": [
    "To know what poppy creature are installed on your computer :"
   ]
  },
  {
   "cell_type": "code",
   "execution_count": 3,
   "metadata": {
    "collapsed": false
   },
   "outputs": [
    {
     "data": {
      "text/plain": [
       "['poppy-humanoid', 'poppy-ergo-jr', 'poppy-4dof-arm-mini']"
      ]
     },
     "execution_count": 3,
     "metadata": {},
     "output_type": "execute_result"
    }
   ],
   "source": [
    "installed_poppy_creatures_packages()"
   ]
  },
  {
   "cell_type": "code",
   "execution_count": 29,
   "metadata": {
    "collapsed": false
   },
   "outputs": [],
   "source": [
    "poppy = Poppy4dofArmMini()"
   ]
  },
  {
   "cell_type": "code",
   "execution_count": 30,
   "metadata": {
    "collapsed": false
   },
   "outputs": [
    {
     "data": {
      "text/plain": [
       "[<DxlMotor name=m1 id=1 pos=0.15>,\n",
       " <DxlMotor name=m2 id=2 pos=1.61>,\n",
       " <DxlMotor name=m3 id=3 pos=-2.79>,\n",
       " <DxlMotor name=m4 id=4 pos=-0.73>]"
      ]
     },
     "execution_count": 30,
     "metadata": {},
     "output_type": "execute_result"
    }
   ],
   "source": [
    "poppy.motors"
   ]
  },
  {
   "cell_type": "code",
   "execution_count": 35,
   "metadata": {
    "collapsed": false
   },
   "outputs": [],
   "source": [
    "poppy.close()"
   ]
  },
  {
   "cell_type": "markdown",
   "metadata": {},
   "source": [
    "To check what is installed on your computer. You have to find the name of your creature."
   ]
  },
  {
   "cell_type": "code",
   "execution_count": 1,
   "metadata": {
    "collapsed": false
   },
   "outputs": [
    {
     "data": {
      "text/plain": [
       "[pyserial 2.7 (c:\\python27\\lib\\site-packages\\pyserial-2.7-py2.7-win32.egg),\n",
       " ipython 3.0.0-b1 (c:\\python27\\lib\\site-packages\\ipython-3.0.0_b1-py2.7.egg),\n",
       " zerorpc 0.4.4 (c:\\python27\\lib\\site-packages\\zerorpc-0.4.4-py2.7.egg),\n",
       " pyzmq 14.5.0 (c:\\python27\\lib\\site-packages\\pyzmq-14.5.0-py2.7-win32.egg),\n",
       " tornado 4.1 (c:\\python27\\lib\\site-packages\\tornado-4.1-py2.7-win32.egg),\n",
       " bottle 0.12.8 (c:\\python27\\lib\\site-packages\\bottle-0.12.8-py2.7.egg),\n",
       " mistune 0.5 (c:\\python27\\lib\\site-packages\\mistune-0.5-py2.7.egg),\n",
       " mock 1.0.1 (c:\\python27\\lib\\site-packages\\mock-1.0.1-py2.7.egg),\n",
       " nose 1.3.4 (c:\\python27\\lib\\site-packages\\nose-1.3.4-py2.7.egg),\n",
       " requests 2.5.1 (c:\\python27\\lib\\site-packages\\requests-2.5.1-py2.7.egg),\n",
       " jinja2 2.7.3 (c:\\python27\\lib\\site-packages\\jinja2-2.7.3-py2.7.egg),\n",
       " jsonschema 2.4.0 (c:\\python27\\lib\\site-packages\\jsonschema-2.4.0-py2.7.egg),\n",
       " numpydoc 0.5 (c:\\python27\\lib\\site-packages\\numpydoc-0.5-py2.7.egg),\n",
       " pygments 2.0.2 (c:\\python27\\lib\\site-packages\\pygments-2.0.2-py2.7.egg),\n",
       " sphinx 1.3b2 (c:\\python27\\lib\\site-packages\\sphinx-1.3b2-py2.7.egg),\n",
       " enum34 1.0.4 (c:\\python27\\lib\\site-packages\\enum34-1.0.4-py2.7.egg),\n",
       " poppy-humanoid 1.1.0 (c:\\users\\julien\\documents\\travail\\poppy\\poppy-humanoid\\software),\n",
       " pypot 2.7.1 (c:\\python27\\lib\\site-packages\\pypot-2.7.1-py2.7.egg),\n",
       " poppy-ergo-jr 1.1.0 (c:\\python27\\lib\\site-packages\\poppy_ergo_jr-1.1.0-py2.7.egg),\n",
       " poppy-creature 1.6.0 (c:\\python27\\lib\\site-packages\\poppy_creature-1.6.0-py2.7.egg),\n",
       " poppy-dof4-arm-mini 0.0.1 (c:\\python27\\lib\\site-packages\\poppy_dof4_arm_mini-0.0.1-py2.7.egg),\n",
       " Babel 1.3 (c:\\python27\\lib\\site-packages),\n",
       " backports.ssl-match-hostname 3.4.0.2 (c:\\python27\\lib\\site-packages),\n",
       " bleach 1.4.1 (c:\\python27\\lib\\site-packages),\n",
       " certifi 14.05.14 (c:\\python27\\lib\\site-packages),\n",
       " colorama 0.3.3 (c:\\python27\\lib\\site-packages),\n",
       " docutils 0.12 (c:\\python27\\lib\\site-packages),\n",
       " html5lib 0.99999 (c:\\python27\\lib\\site-packages),\n",
       " MarkupSafe 0.23 (c:\\python27\\lib\\site-packages),\n",
       " matplotlib 1.4.2 (c:\\python27\\lib\\site-packages),\n",
       " numpy 1.9.1 (c:\\python27\\lib\\site-packages),\n",
       " pyparsing 2.0.3 (c:\\python27\\lib\\site-packages),\n",
       " pyreadline 2.0 (c:\\python27\\lib\\site-packages),\n",
       " python-dateutil 2.4.0 (c:\\python27\\lib\\site-packages),\n",
       " pytz 2014.10 (c:\\python27\\lib\\site-packages),\n",
       " pywin32 219 (c:\\python27\\lib\\site-packages),\n",
       " readme 0.5.1 (c:\\python27\\lib\\site-packages),\n",
       " restview 2.3.0 (c:\\python27\\lib\\site-packages),\n",
       " scipy 0.14.0 (c:\\python27\\lib\\site-packages),\n",
       " six 1.9.0 (c:\\python27\\lib\\site-packages),\n",
       " snowballstemmer 1.2.0 (c:\\python27\\lib\\site-packages)]"
      ]
     },
     "execution_count": 1,
     "metadata": {},
     "output_type": "execute_result"
    }
   ],
   "source": [
    "import pip\n",
    "pip.get_installed_distributions() "
   ]
  },
  {
   "cell_type": "code",
   "execution_count": null,
   "metadata": {
    "collapsed": true
   },
   "outputs": [],
   "source": []
  }
 ],
 "metadata": {
  "kernelspec": {
   "display_name": "Python 2",
   "language": "python",
   "name": "python2"
  },
  "language_info": {
   "codemirror_mode": {
    "name": "ipython",
    "version": 2
   },
   "file_extension": ".py",
   "mimetype": "text/x-python",
   "name": "python",
   "nbconvert_exporter": "python",
   "pygments_lexer": "ipython2",
   "version": "2.7.9"
  }
 },
 "nbformat": 4,
 "nbformat_minor": 0
}
